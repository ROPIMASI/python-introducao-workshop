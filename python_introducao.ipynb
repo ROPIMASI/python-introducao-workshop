{
  "nbformat": 4,
  "nbformat_minor": 0,
  "metadata": {
    "colab": {
      "name": "python_introducao.ipynb",
      "provenance": [],
      "collapsed_sections": [],
      "toc_visible": true,
      "authorship_tag": "ABX9TyMBRRCyuYA2kdc5CQ9iEP3S",
      "include_colab_link": true
    },
    "kernelspec": {
      "name": "python3",
      "display_name": "Python 3"
    }
  },
  "cells": [
    {
      "cell_type": "markdown",
      "metadata": {
        "id": "view-in-github",
        "colab_type": "text"
      },
      "source": [
        "<a href=\"https://colab.research.google.com/github/iariopreto/python-introducao-workshop/blob/master/python_introducao.ipynb\" target=\"_parent\"><img src=\"https://colab.research.google.com/assets/colab-badge.svg\" alt=\"Open In Colab\"/></a>"
      ]
    },
    {
      "cell_type": "code",
      "metadata": {
        "colab_type": "code",
        "id": "9xrJ5K9fU2Mk",
        "colab": {}
      },
      "source": [
        "from IPython.core.interactiveshell import InteractiveShell \n",
        "InteractiveShell.ast_node_interactivity = \"all\""
      ],
      "execution_count": 0,
      "outputs": []
    },
    {
      "cell_type": "markdown",
      "metadata": {
        "id": "eJSESOTRLTCx",
        "colab_type": "text"
      },
      "source": [
        "#Workshop Python - Introdução\n",
        "---"
      ]
    },
    {
      "cell_type": "markdown",
      "metadata": {
        "id": "_QG2nm0xnPRX",
        "colab_type": "text"
      },
      "source": [
        "##Introdução"
      ]
    },
    {
      "cell_type": "markdown",
      "metadata": {
        "id": "9obO78yoNKo0",
        "colab_type": "text"
      },
      "source": [
        "Criada por Guido van Rossum em 1990 (30 anos) foi lançada em 1991.\n",
        "Python é um linguagem de propósito geralde alto nível, multiparadigma, supotando procedural, orientado a objeto e funcional. Python também é frenquentemente descrito como uma linguagem com \"batteries included\" por causa de sua abragente biblioteca padrão.<br />\n",
        "Somos chamados de pythonistas e programamos de forma pythonica."
      ]
    },
    {
      "cell_type": "code",
      "metadata": {
        "id": "ZPJqYhGiLPql",
        "colab_type": "code",
        "outputId": "6dad58b0-cb83-4923-efb6-81d5e51099e1",
        "colab": {
          "base_uri": "https://localhost:8080/",
          "height": 34
        }
      },
      "source": [
        "!python --version"
      ],
      "execution_count": 0,
      "outputs": [
        {
          "output_type": "stream",
          "text": [
            "Python 3.6.9\n"
          ],
          "name": "stdout"
        }
      ]
    },
    {
      "cell_type": "markdown",
      "metadata": {
        "id": "o-0v3bJ_nmC5",
        "colab_type": "text"
      },
      "source": [
        "### PEP (Python Enhancement Proposals)"
      ]
    },
    {
      "cell_type": "markdown",
      "metadata": {
        "id": "B8BHOBqhofkh",
        "colab_type": "text"
      },
      "source": [
        " Propostas de aprimoramento do Python que está catalogado no site [PEP 0](https://www.python.org/dev/peps/) sendo uma das mais famosas a [PEP 8](https://www.python.org/dev/peps/pep-0008/) que é sobre o guia de estilo de códigos Python."
      ]
    },
    {
      "cell_type": "markdown",
      "metadata": {
        "id": "QCQiIWYVnEto",
        "colab_type": "text"
      },
      "source": [
        "### The Zen of Python, by Tim Peters"
      ]
    },
    {
      "cell_type": "code",
      "metadata": {
        "id": "UwKq46-3hcpX",
        "colab_type": "code",
        "outputId": "2a2f91ff-c3af-4f0c-a314-76d62d46935d",
        "colab": {
          "base_uri": "https://localhost:8080/",
          "height": 374
        }
      },
      "source": [
        "import this"
      ],
      "execution_count": 0,
      "outputs": [
        {
          "output_type": "stream",
          "text": [
            "The Zen of Python, by Tim Peters\n",
            "\n",
            "Beautiful is better than ugly.\n",
            "Explicit is better than implicit.\n",
            "Simple is better than complex.\n",
            "Complex is better than complicated.\n",
            "Flat is better than nested.\n",
            "Sparse is better than dense.\n",
            "Readability counts.\n",
            "Special cases aren't special enough to break the rules.\n",
            "Although practicality beats purity.\n",
            "Errors should never pass silently.\n",
            "Unless explicitly silenced.\n",
            "In the face of ambiguity, refuse the temptation to guess.\n",
            "There should be one-- and preferably only one --obvious way to do it.\n",
            "Although that way may not be obvious at first unless you're Dutch.\n",
            "Now is better than never.\n",
            "Although never is often better than *right* now.\n",
            "If the implementation is hard to explain, it's a bad idea.\n",
            "If the implementation is easy to explain, it may be a good idea.\n",
            "Namespaces are one honking great idea -- let's do more of those!\n"
          ],
          "name": "stdout"
        }
      ]
    },
    {
      "cell_type": "markdown",
      "metadata": {
        "id": "cpBiv0IJjGfw",
        "colab_type": "text"
      },
      "source": [
        "Sendo a [PEP 20](https://www.python.org/dev/peps/pep-0020)\n",
        "\n",
        "Bonito é melhor que feio.<br />\n",
        "Explícito é melhor que implícito.<br />\n",
        "Simples é melhor que complexo.<br />\n",
        "Complexo é melhor que complicado.<br />\n",
        "Plano é melhor que aglomerado.<br />\n",
        "Esparso é melhor que denso.<br />\n",
        "Legibilidade faz diferença.<br />\n",
        "Casos especiais não são especiais o bastante para quebrar as regras.<br />\n",
        "Embora a praticidade vença a pureza.<br />\n",
        "Erros nunca devem passar silenciosamente.<br />\n",
        "A menos que sejam explicitamente silenciados.<br />\n",
        "Diante da ambigüidade, recuse a tentação de adivinhar.<br />\n",
        "Deve haver um -- e preferencialmente só um -- modo óbvio para fazer algo.<br />\n",
        "Embora esse modo possa não ser óbvio à primeira vista a menos que você seja holandês.<br />\n",
        "Agora é melhor que nunca.<br />\n",
        "Embora nunca freqüentemente seja melhor que `*exatamente*` agora.<br />\n",
        "Se a implementação é difícil de explicar, é uma má idéia.<br />\n",
        "Se a implementação é fácil de explicar, pode ser uma boa idéia.<br />\n",
        "Namespaces são uma grande idéia -- vamos fazer mais dessas!<br />\n",
        "https://zen-of-python.info/<br />\n",
        "https://wiki.python.org.br/TheZenOfPython\n"
      ]
    },
    {
      "cell_type": "markdown",
      "metadata": {
        "id": "pgPtEqCjOQYp",
        "colab_type": "text"
      },
      "source": [
        "## Variáveis"
      ]
    },
    {
      "cell_type": "markdown",
      "metadata": {
        "id": "QP9wWDoGS_XG",
        "colab_type": "text"
      },
      "source": [
        "### Tipos embutidos (Built-in Types)"
      ]
    },
    {
      "cell_type": "code",
      "metadata": {
        "id": "BZt09Yx_R0MY",
        "colab_type": "code",
        "colab": {
          "base_uri": "https://localhost:8080/",
          "height": 170
        },
        "outputId": "09257e8f-c1e6-492e-d704-897147296c70"
      },
      "source": [
        "print(type(True))\n",
        "print(type('Hello World'))\n",
        "print(type(2))\n",
        "print(type(2.0))\n",
        "print(type(2j))\n",
        "print(type(['a', 1]))\n",
        "print(type(('a', 1)))\n",
        "print(type({'a': 1}))\n",
        "print(type((set([1, 1]))))"
      ],
      "execution_count": 13,
      "outputs": [
        {
          "output_type": "stream",
          "text": [
            "<class 'bool'>\n",
            "<class 'str'>\n",
            "<class 'int'>\n",
            "<class 'float'>\n",
            "<class 'complex'>\n",
            "<class 'list'>\n",
            "<class 'tuple'>\n",
            "<class 'dict'>\n",
            "<class 'set'>\n"
          ],
          "name": "stdout"
        }
      ]
    },
    {
      "cell_type": "markdown",
      "metadata": {
        "id": "24_jz7nUUTU0",
        "colab_type": "text"
      },
      "source": [
        "### Variáveis"
      ]
    },
    {
      "cell_type": "code",
      "metadata": {
        "id": "jDPPJbqUUYre",
        "colab_type": "code",
        "colab": {
          "base_uri": "https://localhost:8080/",
          "height": 51
        },
        "outputId": "27f8d7f2-323e-4ebc-eae6-a6659e2c3d07"
      },
      "source": [
        "greeting = \"Olá, Python\"\n",
        "age = 30\n",
        "pi = 3.14\n",
        "\n",
        "print(f\"{greeting}, Idade: {age}, PI: {pi}\")\n",
        "print(f\"Types: {type(greeting)}, Idade: {type(age)}, PI: {type(pi)}\")"
      ],
      "execution_count": 25,
      "outputs": [
        {
          "output_type": "stream",
          "text": [
            "Olá, Python, Idade: 30, PI: 3.14\n",
            "Types: <class 'str'>, Idade: <class 'int'>, PI: <class 'float'>\n"
          ],
          "name": "stdout"
        }
      ]
    },
    {
      "cell_type": "markdown",
      "metadata": {
        "id": "KeCTlF5NYVLV",
        "colab_type": "text"
      },
      "source": [
        "É uma convenção entre os programadores Python começar a variável com letras minúsculas e utilizar o underscore (_) para separar palavras como: **meu_nome**, **numero_de_cadastro**, **telefone_residencial**. Esse padrão é chamado de **snake case**. Variáveis também podem começar com underscore (_) mas deve ser evitado e utilizado em casos mais específicos.\n",
        "Se usar um nopme ilegal, o interpretador vai acusar um erro"
      ]
    },
    {
      "cell_type": "code",
      "metadata": {
        "id": "ejMW7z7WYurX",
        "colab_type": "code",
        "colab": {
          "base_uri": "https://localhost:8080/",
          "height": 131
        },
        "outputId": "2342693c-26d7-483e-fd8b-11aa553d8760"
      },
      "source": [
        "1nome = \"Python\""
      ],
      "execution_count": 26,
      "outputs": [
        {
          "output_type": "error",
          "ename": "SyntaxError",
          "evalue": "ignored",
          "traceback": [
            "\u001b[0;36m  File \u001b[0;32m\"<ipython-input-26-06e372a7c93b>\"\u001b[0;36m, line \u001b[0;32m1\u001b[0m\n\u001b[0;31m    1nome = \"Python\"\u001b[0m\n\u001b[0m        ^\u001b[0m\n\u001b[0;31mSyntaxError\u001b[0m\u001b[0;31m:\u001b[0m invalid syntax\n"
          ]
        }
      ]
    },
    {
      "cell_type": "code",
      "metadata": {
        "id": "Eso2qk_0ZQiK",
        "colab_type": "code",
        "colab": {
          "base_uri": "https://localhost:8080/",
          "height": 131
        },
        "outputId": "f1ea6e2b-f404-452f-e0e8-8d8e9ab15cab"
      },
      "source": [
        "numero@ = 42"
      ],
      "execution_count": 27,
      "outputs": [
        {
          "output_type": "error",
          "ename": "SyntaxError",
          "evalue": "ignored",
          "traceback": [
            "\u001b[0;36m  File \u001b[0;32m\"<ipython-input-27-d9f59dcc085f>\"\u001b[0;36m, line \u001b[0;32m1\u001b[0m\n\u001b[0;31m    numero@ = 42\u001b[0m\n\u001b[0m            ^\u001b[0m\n\u001b[0;31mSyntaxError\u001b[0m\u001b[0;31m:\u001b[0m invalid syntax\n"
          ]
        }
      ]
    },
    {
      "cell_type": "code",
      "metadata": {
        "id": "fi0oXm_YZghK",
        "colab_type": "code",
        "colab": {
          "base_uri": "https://localhost:8080/",
          "height": 131
        },
        "outputId": "e85187a2-85d4-44d2-ea7c-2a08d9d9268e"
      },
      "source": [
        "class = 'test'"
      ],
      "execution_count": 28,
      "outputs": [
        {
          "output_type": "error",
          "ename": "SyntaxError",
          "evalue": "ignored",
          "traceback": [
            "\u001b[0;36m  File \u001b[0;32m\"<ipython-input-28-f8a641588405>\"\u001b[0;36m, line \u001b[0;32m1\u001b[0m\n\u001b[0;31m    class = 'test'\u001b[0m\n\u001b[0m          ^\u001b[0m\n\u001b[0;31mSyntaxError\u001b[0m\u001b[0;31m:\u001b[0m invalid syntax\n"
          ]
        }
      ]
    },
    {
      "cell_type": "markdown",
      "metadata": {
        "id": "pfECI-naZomT",
        "colab_type": "text"
      },
      "source": [
        "**1nome** é ilegal porque começa com um número.\n",
        "**numero@** é ilegal porque contém um caractere especial o @.\n",
        "E **class** é ilegal porque é uma **palavra reservada** da linguagem.\n",
        "\n",
        "Python possiu 33 palavras reservadas:\n",
        "```\n",
        " and        del        from        None        True\n",
        " as        elif        global        nonlocal        try\n",
        " assert        else        if        not        while\n",
        " break        except        import        or        with\n",
        " class        False        in        pass        yield\n",
        " continue        finaly        is        raise        def\n",
        " for        lambda        return\n",
        "```\n",
        "Portanto, não podemos ser utilizadas ao nomear variáveis."
      ]
    },
    {
      "cell_type": "markdown",
      "metadata": {
        "id": "HRDOVS83eCsp",
        "colab_type": "text"
      },
      "source": [
        "### Operadores Aritméticos\n",
        "São os seguintes operadores `+, -, *, / e **` que representão, respectivamente, adição, subtração, multiplicação, divisão e potenciação."
      ]
    },
    {
      "cell_type": "code",
      "metadata": {
        "id": "BdtU3NKDfAVx",
        "colab_type": "code",
        "colab": {
          "base_uri": "https://localhost:8080/",
          "height": 34
        },
        "outputId": "2d0c2846-e8a5-404e-d9eb-99485e52a890"
      },
      "source": [
        "1 + 1"
      ],
      "execution_count": 29,
      "outputs": [
        {
          "output_type": "execute_result",
          "data": {
            "text/plain": [
              "2"
            ]
          },
          "metadata": {
            "tags": []
          },
          "execution_count": 29
        }
      ]
    },
    {
      "cell_type": "code",
      "metadata": {
        "id": "ZQcbWZyNfGV-",
        "colab_type": "code",
        "colab": {
          "base_uri": "https://localhost:8080/",
          "height": 34
        },
        "outputId": "90e19799-56aa-4f6a-8e16-401546e58754"
      },
      "source": [
        "x = 1\n",
        "y = 2\n",
        "x + y"
      ],
      "execution_count": 32,
      "outputs": [
        {
          "output_type": "execute_result",
          "data": {
            "text/plain": [
              "3"
            ]
          },
          "metadata": {
            "tags": []
          },
          "execution_count": 32
        }
      ]
    },
    {
      "cell_type": "code",
      "metadata": {
        "id": "yWPm8WCZfiim",
        "colab_type": "code",
        "colab": {
          "base_uri": "https://localhost:8080/",
          "height": 34
        },
        "outputId": "c169d0ec-97c9-4b29-e2c6-fbe376eae6d5"
      },
      "source": [
        "x / y"
      ],
      "execution_count": 33,
      "outputs": [
        {
          "output_type": "execute_result",
          "data": {
            "text/plain": [
              "0.5"
            ]
          },
          "metadata": {
            "tags": []
          },
          "execution_count": 33
        }
      ]
    },
    {
      "cell_type": "code",
      "metadata": {
        "id": "aTI2w8LeftzT",
        "colab_type": "code",
        "colab": {
          "base_uri": "https://localhost:8080/",
          "height": 34
        },
        "outputId": "913d9d99-40b1-4427-8133-4e4ebaa79a73"
      },
      "source": [
        "x ** y"
      ],
      "execution_count": 34,
      "outputs": [
        {
          "output_type": "execute_result",
          "data": {
            "text/plain": [
              "1"
            ]
          },
          "metadata": {
            "tags": []
          },
          "execution_count": 34
        }
      ]
    },
    {
      "cell_type": "markdown",
      "metadata": {
        "id": "VfSWhdpXf_8L",
        "colab_type": "text"
      },
      "source": [
        "Além dos operadores comentados, temos também o operador `//` e `%` que representa a divisão inteira e resto da divisão entre dois numeros inteiros (módulo):"
      ]
    },
    {
      "cell_type": "code",
      "metadata": {
        "id": "CT9NY1TLgSWv",
        "colab_type": "code",
        "colab": {
          "base_uri": "https://localhost:8080/",
          "height": 34
        },
        "outputId": "f55f40ad-44aa-4684-ba64-0d8637a7f345"
      },
      "source": [
        "7 // 2"
      ],
      "execution_count": 42,
      "outputs": [
        {
          "output_type": "execute_result",
          "data": {
            "text/plain": [
              "3"
            ]
          },
          "metadata": {
            "tags": []
          },
          "execution_count": 42
        }
      ]
    },
    {
      "cell_type": "code",
      "metadata": {
        "id": "jGY_FqbzhixI",
        "colab_type": "code",
        "colab": {
          "base_uri": "https://localhost:8080/",
          "height": 34
        },
        "outputId": "db543bca-ffaa-49e8-af15-3fd8934b532d"
      },
      "source": [
        "7 % 2"
      ],
      "execution_count": 45,
      "outputs": [
        {
          "output_type": "execute_result",
          "data": {
            "text/plain": [
              "1"
            ]
          },
          "metadata": {
            "tags": []
          },
          "execution_count": 45
        }
      ]
    },
    {
      "cell_type": "markdown",
      "metadata": {
        "id": "NyUOr1ECh3_Z",
        "colab_type": "text"
      },
      "source": [
        "Esse operador é bem útil quando queremos saber se um número é divisível por outro, ou se um número é impar ou par."
      ]
    },
    {
      "cell_type": "markdown",
      "metadata": {
        "id": "E5HMtK9dNsEF",
        "colab_type": "text"
      },
      "source": [
        "## Modulos"
      ]
    },
    {
      "cell_type": "code",
      "metadata": {
        "id": "ju_EQ81qUSvO",
        "colab_type": "code",
        "outputId": "3e67a6cd-22af-41ef-f786-d4b01e7faf7d",
        "colab": {
          "base_uri": "https://localhost:8080/",
          "height": 34
        }
      },
      "source": [
        "import requests\n",
        "r = requests.get('https://www.python.org/')\n",
        "r.status_code"
      ],
      "execution_count": 0,
      "outputs": [
        {
          "output_type": "execute_result",
          "data": {
            "text/plain": [
              "200"
            ]
          },
          "metadata": {
            "tags": []
          },
          "execution_count": 5
        }
      ]
    },
    {
      "cell_type": "markdown",
      "metadata": {
        "id": "7Uvm-s27N2lw",
        "colab_type": "text"
      },
      "source": [
        "### Instalando modulos"
      ]
    },
    {
      "cell_type": "code",
      "metadata": {
        "id": "zPD8yS9hVOvB",
        "colab_type": "code",
        "outputId": "64aff87d-12d8-46ab-d7ae-e5d5c545f8b3",
        "colab": {
          "base_uri": "https://localhost:8080/",
          "height": 301
        }
      },
      "source": [
        "import rows"
      ],
      "execution_count": 0,
      "outputs": [
        {
          "output_type": "error",
          "ename": "ModuleNotFoundError",
          "evalue": "ignored",
          "traceback": [
            "\u001b[0;31m---------------------------------------------------------------------------\u001b[0m",
            "\u001b[0;31mModuleNotFoundError\u001b[0m                       Traceback (most recent call last)",
            "\u001b[0;32m<ipython-input-7-bc75a4368a85>\u001b[0m in \u001b[0;36m<module>\u001b[0;34m()\u001b[0m\n\u001b[0;32m----> 1\u001b[0;31m \u001b[0;32mimport\u001b[0m \u001b[0mrows\u001b[0m\u001b[0;34m\u001b[0m\u001b[0;34m\u001b[0m\u001b[0m\n\u001b[0m",
            "\u001b[0;31mModuleNotFoundError\u001b[0m: No module named 'rows'",
            "",
            "\u001b[0;31m---------------------------------------------------------------------------\u001b[0;32m\nNOTE: If your import is failing due to a missing package, you can\nmanually install dependencies using either !pip or !apt.\n\nTo view examples of installing some common dependencies, click the\n\"Open Examples\" button below.\n\u001b[0;31m---------------------------------------------------------------------------\u001b[0m\n"
          ]
        }
      ]
    },
    {
      "cell_type": "code",
      "metadata": {
        "id": "dgMIXp8yWMmS",
        "colab_type": "code",
        "outputId": "9dee70c0-697e-4ec8-d98f-711cdafa98c3",
        "colab": {
          "base_uri": "https://localhost:8080/",
          "height": 255
        }
      },
      "source": [
        "!pip install rows"
      ],
      "execution_count": 0,
      "outputs": [
        {
          "output_type": "stream",
          "text": [
            "Collecting rows\n",
            "\u001b[?25l  Downloading https://files.pythonhosted.org/packages/f5/01/33aca7061ea7cb2ead54a35fb446259d6ba12ff100bb7e5a9a4d81e7db96/rows-0.4.1-py2.py3-none-any.whl (65kB)\n",
            "\r\u001b[K     |█████                           | 10kB 13.1MB/s eta 0:00:01\r\u001b[K     |██████████                      | 20kB 2.2MB/s eta 0:00:01\r\u001b[K     |███████████████                 | 30kB 3.2MB/s eta 0:00:01\r\u001b[K     |████████████████████▏           | 40kB 2.1MB/s eta 0:00:01\r\u001b[K     |█████████████████████████▏      | 51kB 2.6MB/s eta 0:00:01\r\u001b[K     |██████████████████████████████▏ | 61kB 3.1MB/s eta 0:00:01\r\u001b[K     |████████████████████████████████| 71kB 2.4MB/s \n",
            "\u001b[?25hRequirement already satisfied: six in /usr/local/lib/python3.6/dist-packages (from rows) (1.12.0)\n",
            "Requirement already satisfied: pathlib in /usr/local/lib/python3.6/dist-packages (from rows) (1.0.1)\n",
            "Collecting unicodecsv\n",
            "  Downloading https://files.pythonhosted.org/packages/6f/a4/691ab63b17505a26096608cc309960b5a6bdf39e4ba1a793d5f9b1a53270/unicodecsv-0.14.1.tar.gz\n",
            "Building wheels for collected packages: unicodecsv\n",
            "  Building wheel for unicodecsv (setup.py) ... \u001b[?25l\u001b[?25hdone\n",
            "  Created wheel for unicodecsv: filename=unicodecsv-0.14.1-cp36-none-any.whl size=10767 sha256=c397aefa82278d81610da971aeb9adf8fc69ddb07e76eec98d706a2b85f3b782\n",
            "  Stored in directory: /root/.cache/pip/wheels/a6/09/e9/e800279c98a0a8c94543f3de6c8a562f60e51363ed26e71283\n",
            "Successfully built unicodecsv\n",
            "Installing collected packages: unicodecsv, rows\n",
            "Successfully installed rows-0.4.1 unicodecsv-0.14.1\n"
          ],
          "name": "stdout"
        }
      ]
    },
    {
      "cell_type": "code",
      "metadata": {
        "id": "ErHb53IYWWmb",
        "colab_type": "code",
        "outputId": "aab99635-6135-4361-8645-1db28ee0be5c",
        "colab": {
          "base_uri": "https://localhost:8080/",
          "height": 207
        }
      },
      "source": [
        "import rows\n",
        "\n",
        "# https://gist.github.com/turicas/ec0abcfe0d7abf7a97ef7a0c1d72c7f7\n",
        "cities = rows.import_from_csv(\"brazilian-cities.csv\")\n",
        "print(cities.fields)\n",
        "\n",
        "sp_biggest_cities = [\n",
        "    city for city in cities\n",
        "    if city.state == \"SP\" and city.inhabitants > 500000\n",
        "]\n",
        "for city in sp_biggest_cities:\n",
        "    density = city.inhabitants / city.area\n",
        "    print(f\"{city.city} ({density:5.2f} ppl/km²)\")"
      ],
      "execution_count": 0,
      "outputs": [
        {
          "output_type": "stream",
          "text": [
            "OrderedDict([('state', <class 'rows.fields.TextField'>), ('city', <class 'rows.fields.TextField'>), ('inhabitants', <class 'rows.fields.IntegerField'>), ('area', <class 'rows.fields.FloatField'>)])\n",
            "Campinas (1359.61 ppl/km²)\n",
            "Guarulhos (3834.50 ppl/km²)\n",
            "Osasco (10265.43 ppl/km²)\n",
            "Ribeirão Preto (928.91 ppl/km²)\n",
            "Santo André (3848.03 ppl/km²)\n",
            "São Bernardo do Campo (1869.35 ppl/km²)\n",
            "São José dos Campos (572.96 ppl/km²)\n",
            "São Paulo (7398.27 ppl/km²)\n",
            "Sorocaba (1304.19 ppl/km²)\n"
          ],
          "name": "stdout"
        }
      ]
    },
    {
      "cell_type": "markdown",
      "metadata": {
        "id": "wJhIPkktPI2I",
        "colab_type": "text"
      },
      "source": [
        "##Referências\n",
        "https://www.python.org/<br />\n",
        "https://docs.python.org/pt-br/3.6/index.html<br />\n",
        "https://www.caelum.com.br/apostila-python-orientacao-objetos/declarando-e-usando-variaveis/<br />\n",
        "https://pt.stackoverflow.com/questions/192343/o-que-%C3%A9-c%C3%B3digo-pyth%C3%B4nico"
      ]
    }
  ]
}